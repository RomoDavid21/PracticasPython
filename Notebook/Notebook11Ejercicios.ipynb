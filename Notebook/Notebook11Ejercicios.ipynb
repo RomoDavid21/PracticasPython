{
 "cells": [
  {
   "cell_type": "markdown",
   "id": "d99236bc-1861-4259-bcba-54f59b36321c",
   "metadata": {},
   "source": [
    "# 11 Ejercicios de Python"
   ]
  },
  {
   "cell_type": "markdown",
   "id": "8736d306-42c3-4067-9cf6-dbfca31ae8f5",
   "metadata": {},
   "source": [
    "1. Odd or even\n",
    "2. Mad Libs Game\n",
    "3. Word Count\n",
    "4. Biography info\n",
    "5. What's my acronym?\n",
    "6. Rock, Paper, Scissors\n",
    "7. Guess the number\n",
    "8. Is a palindrome\n",
    "9. Calculate the tip\n",
    "10. Email slicer\n",
    "11. Lyrics generator"
   ]
  },
  {
   "cell_type": "markdown",
   "id": "ff44d6f0-2443-47e1-99bf-c8a1878c7ee5",
   "metadata": {},
   "source": [
    "## Odd or Even\n",
    "Cuando el usuario te da el número, compruebas si es par o impar y luego imprimes un mensaje informándole."
   ]
  },
  {
   "cell_type": "code",
   "execution_count": 7,
   "id": "2d10e552-0f37-476e-ae24-08ef5e6520b2",
   "metadata": {},
   "outputs": [
    {
     "name": "stdout",
     "output_type": "stream",
     "text": [
      "Ingrese un numero entre el 1 y el 100:\n"
     ]
    },
    {
     "name": "stdin",
     "output_type": "stream",
     "text": [
      "Ingrese un número:  9\n"
     ]
    },
    {
     "name": "stdout",
     "output_type": "stream",
     "text": [
      "El número 9 es impar.\n"
     ]
    }
   ],
   "source": [
    "print(\"Ingrese un numero entre el 1 y el 100:\")\n",
    "\n",
    "def verificar(numero):\n",
    "    if numero % 2 == 0:\n",
    "        return f'El número {numero} es par.'\n",
    "    else:\n",
    "        return f'El número {numero} es impar.'\n",
    "\n",
    "dato = int(input(\"Ingrese un número: \"))\n",
    "\n",
    "print(verificar(dato))"
   ]
  },
  {
   "cell_type": "markdown",
   "id": "a1d05651-a85e-4de7-8624-cbb6a63e9fad",
   "metadata": {},
   "source": [
    "## Mad Libs Game\n",
    "Solicite información al usuario, podría ser cualquier cosa, como un nombre, un adjetivo, un pronombre o incluso una acción. Una vez que obtenga la información, puede reorganizarla para construir su propia historia."
   ]
  },
  {
   "cell_type": "code",
   "execution_count": 9,
   "id": "0eb89072-9f05-4ab1-b2b1-5ed27e1da160",
   "metadata": {},
   "outputs": [
    {
     "name": "stdin",
     "output_type": "stream",
     "text": [
      "Ingresa una ciudad:  Madrid\n",
      "Ingresa un sustantivo:  paraguas\n",
      "Ingresa un verbo:  bailar\n",
      "Ingresa un adjetivo:  radiante\n",
      "Ingresa un nombre propio:  Juan\n",
      "Ingresa un sustantivo plural:  elefantes\n",
      "Ingresa un verbo en pasado:  saltar\n",
      "Ingresa un adjetivo:  misteriosos\n",
      "Ingresa el nombre de un animal en plural:  leones\n",
      "Ingresa el nombre de un lugar:  bsoque\n"
     ]
    },
    {
     "name": "stdout",
     "output_type": "stream",
     "text": [
      "\n",
      "En la bulliciosa ciudad de  Madrid  se encontraba un curioso  paraguas  que siempre soñaba \n",
      "con  bailar . Con su radiante  y su valentía, nuestro héroe, conocido como  Juan , se \n",
      "embarcó en una emocionante aventura llena de  elefantes  y misterios.\n",
      "\n",
      "Durante su viaje, se encontró con un grupo de  leones  que lo ayudaron a  saltar  en \n",
      "situaciones complicadas. Juntos vivieron momentos  misteriosos  y descubrieron la magia que se \n",
      "escondía detrás de cada  bsoque .\n"
     ]
    }
   ],
   "source": [
    "ciudad = input(\"Ingresa una ciudad: \")\n",
    "sustantivo = input(\"Ingresa un sustantivo: \")\n",
    "verbo = input(\"Ingresa un verbo: \")\n",
    "adjetivo1 = input(\"Ingresa un adjetivo: \")\n",
    "nombrePropio = input(\"Ingresa un nombre propio: \")\n",
    "sustantivoPlural = input(\"Ingresa un sustantivo plural: \")\n",
    "verboPasado = input(\"Ingresa un verbo en pasado: \")\n",
    "adjetivo2 = input(\"Ingresa un adjetivo: \")\n",
    "animal = input(\"Ingresa el nombre de un animal en plural: \")\n",
    "lugar = input(\"Ingresa el nombre de un lugar: \")\n",
    "\n",
    "\n",
    "print(\"\\nEn la bulliciosa ciudad de \",ciudad,\" se encontraba un curioso \",sustantivo,\" que siempre soñaba \")\n",
    "print(\"con \",verbo,\". Con su\",adjetivo1,\" y su valentía, nuestro héroe, conocido como \",nombrePropio,\", se \")\n",
    "print(\"embarcó en una emocionante aventura llena de \",sustantivoPlural,\" y misterios.\")\n",
    "print(\"\\nDurante su viaje, se encontró con un grupo de \",animal,\" que lo ayudaron a \",verboPasado,\" en \")\n",
    "print(\"situaciones complicadas. Juntos vivieron momentos \",adjetivo2,\" y descubrieron la magia que se \")\n",
    "print(\"escondía detrás de cada \",lugar,\".\")"
   ]
  },
  {
   "cell_type": "markdown",
   "id": "3202fa7b-62b6-447f-a0cb-35fe91ec5569",
   "metadata": {},
   "source": [
    "## Word Count\n",
    "Pregúntele al usuario qué tiene en mente. Luego, después de que el usuario responda, cuente la cantidad de palabras en la oración e imprímala como resultado."
   ]
  },
  {
   "cell_type": "code",
   "execution_count": 3,
   "id": "2c142504-a78f-426e-95f4-b9a7d0ccca9f",
   "metadata": {},
   "outputs": [
    {
     "name": "stdin",
     "output_type": "stream",
     "text": [
      "En que estas pensando?:   En la verdad profesor, si me tarde un poco en hacer este notebook pero se logro.\n"
     ]
    },
    {
     "name": "stdout",
     "output_type": "stream",
     "text": [
      "Lo que piensas me lo dices en  16  palabras, sorprendente.\n"
     ]
    }
   ],
   "source": [
    "texto = input(\"En que estas pensando?:  \")\n",
    "palabras = texto.split()\n",
    "contador = len(palabras)\n",
    "\n",
    "print(\"Lo que piensas me lo dices en \",contador,\" palabras, sorprendente.\")"
   ]
  },
  {
   "cell_type": "markdown",
   "id": "f40a8cfb-89f7-464b-bbc8-921749b846d1",
   "metadata": {},
   "source": [
    "## Biography info\n",
    "Solicite a un usuario su información personal una pregunta a la vez. Luego verifique que la información que ingresaron sea válida. Finalmente, imprima un resumen de toda la información que ingresaron."
   ]
  },
  {
   "cell_type": "code",
   "execution_count": 4,
   "id": "f3f60673-16f9-4f94-a5fd-8509919d8bdf",
   "metadata": {},
   "outputs": [
    {
     "name": "stdin",
     "output_type": "stream",
     "text": [
      "Ingresa tu nombre:   David\n",
      "Tu nombre es correcto?(y/n):   y\n",
      "Ingresa tu fecha de nacimiento:   21 de mayo del 2000\n",
      "Tu fecha de nacimiento es correcta?(y/n):   y\n",
      "Ingresa tu direccion:   Calle Venus\n",
      "Tu direccion es correcta?(y/n):   y\n",
      "Ingresa una meta personas:   Acabar la carrera\n",
      "Tu meta es correcta?(y/n):   y\n"
     ]
    },
    {
     "name": "stdout",
     "output_type": "stream",
     "text": [
      "- Name:  David\n",
      "- Date of birth:  21 de mayo del 2000\n",
      "- Address:  Calle Venus\n",
      "- Personal Goals:  Acabar la carrera\n"
     ]
    }
   ],
   "source": [
    "bandera=True\n",
    "while bandera== True:\n",
    "    nombre = input(\"Ingresa tu nombre:  \")\n",
    "    option = input(\"Tu nombre es correcto?(y/n):  \")\n",
    "    if(option==\"y\"):\n",
    "        bandera = False\n",
    "\n",
    "\n",
    "bandera=True\n",
    "while bandera== True:\n",
    "    fecha = input(\"Ingresa tu fecha de nacimiento:  \")\n",
    "    option = input(\"Tu fecha de nacimiento es correcta?(y/n):  \")\n",
    "    if(option==\"y\"):\n",
    "        bandera = False\n",
    "\n",
    "\n",
    "bandera=True\n",
    "while bandera== True:\n",
    "    direccion = input(\"Ingresa tu direccion:  \")\n",
    "    option = input(\"Tu direccion es correcta?(y/n):  \")\n",
    "    if(option==\"y\"):\n",
    "        bandera = False\n",
    "\n",
    "\n",
    "bandera=True\n",
    "while bandera== True:\n",
    "    objetivo = input(\"Ingresa una meta personas:  \")\n",
    "    option = input(\"Tu meta es correcta?(y/n):  \")\n",
    "    if(option==\"y\"):\n",
    "        bandera = False\n",
    "\n",
    "#Imprime Datos\n",
    "print(\"- Name: \",nombre)\n",
    "print(\"- Date of birth: \",fecha)\n",
    "print(\"- Address: \",direccion)\n",
    "print(\"- Personal Goals: \",objetivo)"
   ]
  },
  {
   "cell_type": "markdown",
   "id": "dd003e33-1208-4ad5-b409-c87b088bebb2",
   "metadata": {},
   "source": [
    "## What's my acronym?\n",
    "Toma una entrada de usuario que representa el significado completo de una organización o concepto, y luego genera y muestra su acrónimo."
   ]
  },
  {
   "cell_type": "code",
   "execution_count": 5,
   "id": "0211fe07-a8d0-4a93-b597-b73e3628f9f3",
   "metadata": {},
   "outputs": [
    {
     "name": "stdin",
     "output_type": "stream",
     "text": [
      "Ingrese el significado completo de una organización o concepto:  United Nations\n"
     ]
    },
    {
     "name": "stdout",
     "output_type": "stream",
     "text": [
      "Acronimo: UN\n"
     ]
    }
   ],
   "source": [
    "def acronimo():\n",
    "    significado = input(\"Ingrese el significado completo de una organización o concepto: \")\n",
    "\n",
    "    acronimo = ''.join(word[0].upper() for word in significado.split())\n",
    "\n",
    "    print(\"Acronimo:\", acronimo)\n",
    "\n",
    "acronimo()"
   ]
  },
  {
   "cell_type": "markdown",
   "id": "e2dee13c-fc32-4e34-813f-17fa040c7d2e",
   "metadata": {},
   "source": [
    "## Rock, Paper, Scissors\n",
    "El juego de Piedra, Papel o Tijera."
   ]
  },
  {
   "cell_type": "code",
   "execution_count": 6,
   "id": "c999600d-2a7a-41b7-8ee3-abbd8f4393f2",
   "metadata": {},
   "outputs": [
    {
     "name": "stdout",
     "output_type": "stream",
     "text": [
      "Elige: piedra, papel o tijera\n"
     ]
    },
    {
     "name": "stdin",
     "output_type": "stream",
     "text": [
      " piedra\n"
     ]
    },
    {
     "name": "stdout",
     "output_type": "stream",
     "text": [
      "Jugador elige: piedra\n",
      "Computadora elige: papel\n",
      "¡Perdiste!\n"
     ]
    }
   ],
   "source": [
    "import random\n",
    "\n",
    "def jugar():\n",
    "    opciones = [\"piedra\", \"papel\", \"tijera\"]\n",
    "\n",
    "    print(\"Elige: piedra, papel o tijera\")\n",
    "    jugador = input().lower()\n",
    "\n",
    "    # Validar la elección del jugador\n",
    "    if jugador not in opciones:\n",
    "        print(\"Elección no válida. Elige entre piedra, papel o tijera.\")\n",
    "        return\n",
    "\n",
    "    computadora = random.choice(opciones)\n",
    "\n",
    "    print(\"Jugador elige:\", jugador)\n",
    "    print(\"Computadora elige:\", computadora)\n",
    "\n",
    "    if jugador == computadora:\n",
    "        print(\"¡Empate!\")\n",
    "    elif (jugador == \"piedra\" and computadora == \"tijera\") or \\\n",
    "         (jugador == \"papel\" and computadora == \"piedra\") or \\\n",
    "         (jugador == \"tijera\" and computadora == \"papel\"):\n",
    "        print(\"¡Ganaste!\")\n",
    "    else:\n",
    "        print(\"¡Perdiste!\")\n",
    "\n",
    "jugar()"
   ]
  },
  {
   "cell_type": "markdown",
   "id": "21576004-cb99-45cb-9466-497424467001",
   "metadata": {},
   "source": [
    "## Guess the number\n",
    "Pedir al usuario que ingrese numeros hasta que adivine el que se eligio random."
   ]
  },
  {
   "cell_type": "code",
   "execution_count": 2,
   "id": "4c32b358-75fa-45d4-922b-282cc7bb4c2a",
   "metadata": {},
   "outputs": [
    {
     "name": "stdin",
     "output_type": "stream",
     "text": [
      "Adivina el numero entre 1 - 50:   10\n"
     ]
    },
    {
     "name": "stdout",
     "output_type": "stream",
     "text": [
      "Elije un numero mas bajo. Intentalo otra vez\n"
     ]
    },
    {
     "name": "stdin",
     "output_type": "stream",
     "text": [
      "\n",
      "Adivina un numero entre 1 - 50:   9\n"
     ]
    },
    {
     "name": "stdout",
     "output_type": "stream",
     "text": [
      "Elije un numero mas bajo. Intentalo otra vez\n"
     ]
    },
    {
     "name": "stdin",
     "output_type": "stream",
     "text": [
      "\n",
      "Adivina un numero entre 1 - 50:   1\n"
     ]
    },
    {
     "name": "stdout",
     "output_type": "stream",
     "text": [
      "Elije un numero mas alto. Intentalo otra vez\n"
     ]
    },
    {
     "name": "stdin",
     "output_type": "stream",
     "text": [
      "\n",
      "Adivina un numero entre 1 - 50:   2\n"
     ]
    },
    {
     "name": "stdout",
     "output_type": "stream",
     "text": [
      "Elije un numero mas alto. Intentalo otra vez\n"
     ]
    },
    {
     "name": "stdin",
     "output_type": "stream",
     "text": [
      "\n",
      "Adivina un numero entre 1 - 50:   3\n"
     ]
    },
    {
     "name": "stdout",
     "output_type": "stream",
     "text": [
      "Elije un numero mas alto. Intentalo otra vez\n"
     ]
    },
    {
     "name": "stdin",
     "output_type": "stream",
     "text": [
      "\n",
      "Adivina un numero entre 1 - 50:   4\n"
     ]
    },
    {
     "name": "stdout",
     "output_type": "stream",
     "text": [
      "Elije un numero mas alto. Intentalo otra vez\n"
     ]
    },
    {
     "name": "stdin",
     "output_type": "stream",
     "text": [
      "\n",
      "Adivina un numero entre 1 - 50:   5\n"
     ]
    },
    {
     "name": "stdout",
     "output_type": "stream",
     "text": [
      "Elije un numero mas alto. Intentalo otra vez\n"
     ]
    },
    {
     "name": "stdin",
     "output_type": "stream",
     "text": [
      "\n",
      "Adivina un numero entre 1 - 50:   6\n"
     ]
    },
    {
     "name": "stdout",
     "output_type": "stream",
     "text": [
      "Adivinaste el numero felicidades!!!\n",
      "Te costo  7  intentos\n"
     ]
    }
   ],
   "source": [
    "import random\n",
    "num = random.randrange(1,50)\n",
    "adi = int(input(\"Adivina el numero entre 1 - 50:  \"))\n",
    "cont = 0\n",
    "\n",
    "while adi != num:\n",
    "    if (adi < num):\n",
    "        print(\"Elije un numero mas alto. Intentalo otra vez\")\n",
    "        adi = int(input(\"\\nAdivina un numero entre 1 - 50:  \"))\n",
    "        cont = cont + 1\n",
    "    else:\n",
    "        print(\"Elije un numero mas bajo. Intentalo otra vez\")\n",
    "        adi = int(input(\"\\nAdivina un numero entre 1 - 50:  \"))\n",
    "        cont = cont + 1\n",
    "print(\"Adivinaste el numero felicidades!!!\")\n",
    "print(\"Te costo \", cont, \" intentos\")"
   ]
  },
  {
   "cell_type": "markdown",
   "id": "18a495b4-7cff-4f6a-b9bc-8fbc0a2e247c",
   "metadata": {},
   "source": [
    "## Is a palindrome\n",
    "Ingresar palabras, y que el programa detecte cuantas palabras son palindromas."
   ]
  },
  {
   "cell_type": "code",
   "execution_count": 3,
   "id": "64a3ea4d-a934-40b3-96fb-c2fffd63af77",
   "metadata": {},
   "outputs": [
    {
     "name": "stdin",
     "output_type": "stream",
     "text": [
      "Ingrese la palabra #1:  hola\n",
      "Ingrese la palabra #2:  reconocer\n",
      "Ingrese la palabra #3:  sandia\n",
      "Ingrese la palabra #4:  quince\n",
      "Ingrese la palabra #5:  solos\n"
     ]
    },
    {
     "name": "stdout",
     "output_type": "stream",
     "text": [
      "\n",
      "Palíndromos:\n",
      "reconocer\n",
      "solos\n",
      "\n",
      "No palíndromos:\n",
      "hola\n",
      "sandia\n",
      "quince\n"
     ]
    }
   ],
   "source": [
    "def es_palindromo(word):\n",
    "    return word == word[::-1]\n",
    "\n",
    "palabras = []\n",
    "for i in range(5):\n",
    "    palabra = input(f\"Ingrese la palabra #{i + 1}: \")\n",
    "    palabras.append(palabra.lower()) \n",
    "\n",
    "palindromes = []\n",
    "no_palindromes = []\n",
    "for palabra in palabras:\n",
    "    if es_palindromo(palabra):\n",
    "        palindromes.append(palabra)\n",
    "    else:\n",
    "        no_palindromes.append(palabra)\n",
    "\n",
    "# Mostrar los resultados\n",
    "print(\"\\nPalíndromos:\")\n",
    "for palindrome in palindromes:\n",
    "    print(palindrome)\n",
    "\n",
    "print(\"\\nNo palíndromos:\")\n",
    "for no_palindrome in no_palindromes:\n",
    "    print(no_palindrome)"
   ]
  },
  {
   "cell_type": "markdown",
   "id": "cb2c7141-5378-4b88-b18a-8f17634f7463",
   "metadata": {},
   "source": [
    "## Calculate the tip\n",
    "Facilita el cálculo del total a pagar por persona en una cuenta, considerando el monto total de la cuenta, la cantidad de personas en la mesa y la selección de un porcentaje de propina."
   ]
  },
  {
   "cell_type": "code",
   "execution_count": 4,
   "id": "eae8e11c-d6a9-4c41-8b3f-8282d3693d15",
   "metadata": {},
   "outputs": [
    {
     "name": "stdin",
     "output_type": "stream",
     "text": [
      "¿Cuánto es la cuenta?  900\n",
      "¿Cuantas personas hay en la mesa?  5\n",
      "¿Cuánto vamos a dejar de propina?\n",
      " 1) 15%\n",
      " 2) 20%\n",
      " 3) 25%\n",
      " 3\n"
     ]
    },
    {
     "name": "stdout",
     "output_type": "stream",
     "text": [
      "El total a pagar entre  5  con una propina del 25.0 % es  de: 225.0\n"
     ]
    }
   ],
   "source": [
    "cuenta = float(input(\"¿Cuánto es la cuenta? \"))\n",
    "\n",
    "personas = int(input(\"¿Cuantas personas hay en la mesa? \"))\n",
    "\n",
    "propina = input(\"¿Cuánto vamos a dejar de propina?\\n 1) 15%\\n 2) 20%\\n 3) 25%\\n\")\n",
    "\n",
    "if propina == '1':\n",
    "    porcentaje = 0.18\n",
    "elif propina == '2':\n",
    "    porcentaje = 0.20\n",
    "elif propina == '3':\n",
    "    porcentaje = 0.25\n",
    "else:\n",
    "    print(\"Opción inválida, vuelva a ingresar los datos.\")\n",
    "    exit()  \n",
    "\n",
    "total = (cuenta * (1 + porcentaje)) / personas\n",
    "\n",
    "## Mostramos al usuario el resultado\n",
    "print(\"El total a pagar entre \",personas,\" con una propina del\", porcentaje * 100, \"% es  de:\", total)"
   ]
  },
  {
   "cell_type": "markdown",
   "id": "55e969eb-0c58-443e-b01c-324cbf5d67e7",
   "metadata": {},
   "source": [
    "## Email slicer\n",
    "Recopile una dirección de correo electrónico del usuario y luego averigüe si el usuario tiene un nombre de dominio personalizado o un nombre de dominio popular."
   ]
  },
  {
   "cell_type": "code",
   "execution_count": 5,
   "id": "edf98e26-b6b5-4d40-8a1e-64f3d7822ec7",
   "metadata": {},
   "outputs": [
    {
     "name": "stdin",
     "output_type": "stream",
     "text": [
      "Ingresa tu correo electronico:   romo.david@uabc.edu.mx\n"
     ]
    },
    {
     "name": "stdout",
     "output_type": "stream",
     "text": [
      "Tu nombre de ususario es: romo.david\n",
      "Tu dominio es: uabc.edu.mx, tu dominio es de UABC.\n"
     ]
    }
   ],
   "source": [
    "email = input(\"Ingresa tu correo electronico:  \").strip()\n",
    "usuario = email[:email.index('@')]\n",
    "dominio = email[email.index('@')+1:]\n",
    "\n",
    "if dominio == \"gmail.com\":\n",
    "    annex = \"tu dominio es de google.\"\n",
    "elif dominio == \"outlook.com\":\n",
    "    annex = \"tu dominio es de microsoft.\"\n",
    "elif dominio == \"hotmail.com\":\n",
    "    annex = \"tu dominio es de microsoft.\"\n",
    "elif dominio == \"uabc.edu.mx\":\n",
    "    annex = \"tu dominio es de UABC.\"\n",
    "else:\n",
    "    annex = \"tu dominio es genial.\"\n",
    "\n",
    "result = \"Tu nombre de ususario es: \"+usuario+\"\\nTu dominio es: \"+dominio+\", \"+annex\n",
    "\n",
    "print(result)"
   ]
  },
  {
   "cell_type": "markdown",
   "id": "c0fcaaea-7b13-42ee-9cb1-5df0833db522",
   "metadata": {},
   "source": [
    "## Lyrics generator\n",
    "Pídale a un usuario que elija de una lista de 10 canciones. Cuando el usuario lo hace, imprime la letra de la canción que seleccionó."
   ]
  },
  {
   "cell_type": "code",
   "execution_count": 6,
   "id": "4268b932-3ba1-4893-bda5-e8a7cb2e3864",
   "metadata": {},
   "outputs": [
    {
     "name": "stdout",
     "output_type": "stream",
     "text": [
      "Lista de canciones:\n",
      "1. Imagine Dragons - Bones\n",
      "2. Imagine Dragons - Enemy\n",
      "3. Alex Ubago - Sigo Aqui\n",
      "4. What Could Have Been - Ray Chen y Sting\n",
      "5. I Wanna Be Your Slave - Måneskin\n"
     ]
    },
    {
     "name": "stdin",
     "output_type": "stream",
     "text": [
      "Elige una canción (1-5):  2\n"
     ]
    },
    {
     "name": "stdout",
     "output_type": "stream",
     "text": [
      "\n",
      "Elejiste: 'Imagine Dragons - Enemy' Aqui tienes. \n",
      "\n",
      " --------------- Imagine Dragons - Enemy--------------- \n",
      "\n",
      "Look out for yourself\n",
      "\n",
      "I wake up to the sounds of the silence that allows\n",
      "For my mind to run around, with my ear up to the ground\n",
      "I’m searching to behold the stories that are told\n",
      "When my back is to the world, that was smiling when I turned\n",
      "Tell you you’re the greatest\n",
      "But once you turn they hate us\n",
      "\n",
      "Oh, the misery\n",
      "Everybody wants to be my enemy\n",
      "Spare the sympathy\n",
      "Everybody wants to be my enemy\n",
      "Look out for yourself\n",
      "My enemy\n",
      "Look out for yourself\n",
      "But I’m ready\n",
      "\n",
      "Your words up on the wall, as you’re praying for my fall\n",
      "And the laughter in the halls, and the names that I’ve been called\n",
      "I stack it in my mind, and I’m waiting for the time\n",
      "When I show you what it’s like, to be words spit in a mic\n",
      "Tell you you’re the greatest\n",
      "But once you turn they hate us\n",
      "\n",
      "Oh, the misery\n",
      "Everybody wants to be my enemy\n",
      "Smell the sympathy\n",
      "Everybody wants to be my enemy\n",
      "Look out for yourself\n",
      "My enemy\n",
      "Look, look, look, look, look out for yourself\n",
      "\n",
      "_JID verse_\n",
      "\n",
      "Yeah\n",
      "Uh, look, okay\n",
      "I’m hoping that somebody pray for me\n",
      "I’m praying that somebody hope for me\n",
      "I’m staying where nobody ‘posed to be\n",
      "P-p-posted\n",
      "Being a wreck of emotions\n",
      "Ready to go whenever just let me know\n",
      "The road is long so put the pedal into the floor\n",
      "The enemy’s on my trail\n",
      "My energy unavailable\n",
      "Imma tell ‘em hasta luego\n",
      "They wanna plot on my trot to the top\n",
      "I’ve been outta shape\n",
      "Thinkin’ out the box\n",
      "I’m an astronaut\n",
      "I blasted off the planet rock to cause Catastrophe and it matters, more because I had it not,\n",
      "Had I  thought about wreaking havoc on an opposition\n",
      "Kinda shockin’ they wanted static \n",
      "With precision I’m automatic quarterback\n",
      "I ain’t talkin’ sacking\n",
      "Pack it pack it up\n",
      "I don’t panic\n",
      "Batter batter up\n",
      "Who the baddest\n",
      "It don’t matter\n",
      "Cause we at ya throat\n",
      "\n",
      "__\n",
      "\n",
      "Everybody wants to be my enemy\n",
      "Spare the sympathy\n",
      "Everybody wants to be my enemy\n",
      "Oh, the misery\n",
      "Everybody wants to be my enemy\n",
      "Spare the sympathy\n",
      "Everybody wants to be my enemy\n",
      "\n",
      "They say pray it away, I swear, I’ll never be a Saint, no way\n",
      "My enemy\n",
      "They say pray it away, I swear, I’ll never be a Saint\n",
      "Look out for yourself\n",
      "\n"
     ]
    }
   ],
   "source": [
    "from canciones import *\n",
    "\n",
    "lista = {\n",
    "  \"Imagine Dragons - Bones\": Bones,\n",
    "  \"Imagine Dragons - Enemy\": Enemy,\n",
    "  \"Alex Ubago - Sigo Aqui\": SigoAqui, \n",
    "  \"What Could Have Been - Ray Chen y Sting\": What,\n",
    "  \"I Wanna Be Your Slave - Måneskin\": Slave\n",
    "}\n",
    "\n",
    "# Imprime la lista de canciones\n",
    "print(\"Lista de canciones:\")\n",
    "for i, song in enumerate(lista, 1):\n",
    "  print(f\"{i}. {song}\")\n",
    "\n",
    "# Pedir al usuario que elija una canción\n",
    "opcion = int(input(\"Elige una canción (1-5): \"))\n",
    "\n",
    "# Verificar si la opción del usuario es válida\n",
    "if opcion < 1 or opcion > 5:\n",
    "  print(\"Opción inválida\")\n",
    "else:\n",
    " \n",
    "  titulo = list(lista.keys())[opcion - 1]\n",
    "  letra = lista[titulo]\n",
    "\n",
    "  print(f\"\\nElejiste: '{titulo}' Aqui tienes. \\n\\n --------------- {titulo}--------------- \\n{letra}\")"
   ]
  },
  {
   "cell_type": "code",
   "execution_count": null,
   "id": "272c9796-5e17-46b9-a620-5b020293d434",
   "metadata": {},
   "outputs": [],
   "source": []
  }
 ],
 "metadata": {
  "kernelspec": {
   "display_name": "Python 3 (ipykernel)",
   "language": "python",
   "name": "python3"
  },
  "language_info": {
   "codemirror_mode": {
    "name": "ipython",
    "version": 3
   },
   "file_extension": ".py",
   "mimetype": "text/x-python",
   "name": "python",
   "nbconvert_exporter": "python",
   "pygments_lexer": "ipython3",
   "version": "3.12.2"
  }
 },
 "nbformat": 4,
 "nbformat_minor": 5
}
